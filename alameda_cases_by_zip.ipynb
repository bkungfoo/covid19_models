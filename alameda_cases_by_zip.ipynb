{
 "cells": [
  {
   "cell_type": "markdown",
   "metadata": {},
   "source": [
    "# Alameda Cases\n",
    "\n",
    "Alameda covid cases data: https://data.acgov.org/datasets/AC-HCSA::alameda-county-cumulative-cases-by-city-jurisdiction-and-zip/data?page=9\n",
    "Zip code population data: https://catalog.data.gov/dataset/2010-census-populations-by-zip-code\n",
    "Median income data: http://www.healthyalamedacounty.org/indicators/index/view?indicatorId=15&localeId=5587"
   ]
  },
  {
   "cell_type": "code",
   "execution_count": null,
   "metadata": {},
   "outputs": [],
   "source": [
    "import numpy as np\n",
    "import pandas as pd\n",
    "from importlib import reload\n",
    "from datetime import datetime, timezone, timedelta\n",
    "import matplotlib.pyplot as plt\n",
    "from pandas.plotting import register_matplotlib_converters\n",
    "register_matplotlib_converters()\n",
    "from scipy import optimize\n",
    "import statsmodels.api as sm\n",
    "import os\n",
    "import pickle\n",
    "import requests\n",
    "\n",
    "from modeling import dataproc, optimizer, sir_model"
   ]
  },
  {
   "cell_type": "code",
   "execution_count": null,
   "metadata": {},
   "outputs": [],
   "source": [
    "alameda_df = pd.read_csv('data_repo/Alameda_County_Cumulative_Cases_By_Place_And_Zip.csv')\n",
    "# Replace < 10 with 0\n",
    "alameda_df.replace({'<10': 0}, inplace=True)\n",
    "# Convert date column to datetime\n",
    "alameda_df['Date'] = alameda_df['DtCreate'].apply(lambda x: datetime.strptime(x.split(' ')[0], '%Y/%m/%d'))\n",
    "del alameda_df['DtCreate']\n",
    "del alameda_df['ObjectId']\n",
    "col_rename = {col: col[1:] for col in list(alameda_df) if 'F9' in col}\n",
    "alameda_df = alameda_df.rename(columns=col_rename)\n",
    "# Convert columns to rows\n",
    "alameda_df = alameda_df.melt(['Date'], var_name='Location', value_name='Cases')\n",
    "alameda_df = alameda_df.set_index('Date')\n",
    "alameda_df['Cases'] = alameda_df['Cases'].astype(int)\n",
    "alameda_df['Location']\n",
    "alameda_df "
   ]
  },
  {
   "cell_type": "code",
   "execution_count": null,
   "metadata": {},
   "outputs": [],
   "source": [
    "# Look at Oakland\n",
    "plt.figure(figsize=(10,5))\n",
    "plt.plot(alameda_df[alameda_df['Location'] == 'Hayward']['Cases'])\n",
    "plt.xticks(rotation=90)\n",
    "plt.title('Oakland Cases')"
   ]
  },
  {
   "cell_type": "code",
   "execution_count": null,
   "metadata": {},
   "outputs": [],
   "source": [
    "# Income levels\n",
    "alameda_income_df = pd.read_csv('data_repo/alameda_median_income.csv')\n",
    "alameda_income_df = alameda_income_df[alameda_income_df['Period of Measure'] == '2014-2018']\n",
    "alameda_income_df"
   ]
  },
  {
   "cell_type": "code",
   "execution_count": null,
   "metadata": {},
   "outputs": [],
   "source": [
    "# Population and population density by zip code\n",
    "pop_df = pd.read_csv('data_repo/uszips.csv')\n",
    "pop_df['Location'] = pop_df['zip'].astype(int)\n",
    "pop_df"
   ]
  },
  {
   "cell_type": "code",
   "execution_count": null,
   "metadata": {},
   "outputs": [],
   "source": [
    "# Do some joining\n",
    "# Get only locations with cases\n",
    "locations_with_cases = alameda_df[\n",
    "    (alameda_df.index == '2020-05-26')\n",
    "    & (alameda_df['Cases'] > 0)\n",
    "    & (alameda_df['Location'].str.contains('9'))\n",
    "]\n",
    "locations_with_cases['Location'] = locations_with_cases['Location'].astype(int)\n",
    "\n",
    "# Join with population\n",
    "locations_with_cases = locations_with_cases.join(pop_df[['Location', 'city', 'population', 'density']].set_index('Location'),\n",
    "                          on='Location', how='inner', rsuffix='_pop')\n",
    "locations_with_cases['Frac Cases'] = locations_with_cases['Cases'] / locations_with_cases['population']\n",
    "\n",
    "# Join with median income\n",
    "locations_with_cases = locations_with_cases.join(alameda_income_df[['Location', 'Indicator Value']].set_index('Location'),\n",
    "                                                 on='Location', how='inner', rsuffix='_income')\n",
    "\n",
    "locations_with_cases = locations_with_cases.rename(columns={'Indicator Value': 'Median Income'})\n",
    "\n",
    "locations_with_cases['Location'] = locations_with_cases['Location'].astype(str)\n",
    "\n",
    "# Filter some of the very small values\n",
    "#locations_with_cases = locations_with_cases[locations_with_cases['Cases'] >= 20]\n",
    "\n",
    "locations_with_cases.sort_values('Median Income')"
   ]
  },
  {
   "cell_type": "code",
   "execution_count": null,
   "metadata": {
    "scrolled": true
   },
   "outputs": [],
   "source": [
    "plt.figure(figsize=(15,5))\n",
    "plt.bar(locations_with_cases['Location'], locations_with_cases['Frac Cases'])\n",
    "plt.xticks(rotation=90)\n",
    "plt.show()\n"
   ]
  },
  {
   "cell_type": "code",
   "execution_count": null,
   "metadata": {},
   "outputs": [],
   "source": [
    "plt.figure(figsize=(15, 10))\n",
    "plt.scatter(locations_with_cases['density'], locations_with_cases['Frac Cases'])\n",
    "for i, txt in enumerate(locations_with_cases['Location']):\n",
    "    plt.annotate(txt, (locations_with_cases['density'][i], locations_with_cases['Frac Cases'][i]))\n",
    "plt.xlabel('density')\n",
    "plt.ylabel('frac cases')\n",
    "plt.show()"
   ]
  },
  {
   "cell_type": "code",
   "execution_count": null,
   "metadata": {},
   "outputs": [],
   "source": [
    "def poly_line(x, coef):\n",
    "    y = np.zeros_like(x, dtype=np.float64)\n",
    "    for p in range(len(coef)):\n",
    "        y += np.power(x, p) * coef[-(p + 1)]\n",
    "    return y"
   ]
  },
  {
   "cell_type": "code",
   "execution_count": null,
   "metadata": {
    "scrolled": true
   },
   "outputs": [],
   "source": [
    "from matplotlib.ticker import ScalarFormatter\n",
    "\n",
    "income = np.arange(10000, 80000, 1000)\n",
    "x = locations_with_cases[~locations_with_cases['Location'].isin(['94619', '94704', '94611'])]['Median Income'].to_numpy()\n",
    "y = locations_with_cases[~locations_with_cases['Location'].isin(['94619', '94704', '94611'])]['Frac Cases'].to_numpy()\n",
    "log_y = np.log(y)\n",
    "coef = np.polyfit(x, log_y, deg=1)\n",
    "print(coef)\n",
    "exp_smoothed_frac_cases = np.exp(poly_line(income, coef))\n",
    "\n",
    "fig, ax = plt.subplots(figsize=(15, 10))\n",
    "ax.scatter(locations_with_cases['Median Income'], locations_with_cases['Frac Cases'], label='data')\n",
    "ax.plot(income, exp_smoothed_frac_cases, label='fitted line', linewidth=4)\n",
    "for i, txt in enumerate(locations_with_cases['city'] + ', ' + locations_with_cases['Location']):\n",
    "    ax.annotate(txt, (locations_with_cases['Median Income'][i], locations_with_cases['Frac Cases'][i]))\n",
    "ax.set_xlabel('median income ($)')\n",
    "ax.set_ylabel('cases per capita')\n",
    "ax.set_yscale('log')\n",
    "print(np.exp(np.arange(-8, -3, 0.2)))\n",
    "ax.set_yticks(np.arange(0.0005, 0.007, 0.0005))\n",
    "ax.yaxis.set_major_formatter(ScalarFormatter())\n",
    "ax.legend()\n",
    "plt.show()"
   ]
  },
  {
   "cell_type": "code",
   "execution_count": null,
   "metadata": {},
   "outputs": [],
   "source": [
    "SIGMA = 5000\n",
    "income = np.arange(10000, 80000, 1000)\n",
    "x = locations_with_cases['Median Income'].to_numpy()\n",
    "y = locations_with_cases['Frac Cases'].to_numpy()\n",
    "\n",
    "def gaussian_density(a, b, sigma):\n",
    "    return np.exp(-np.square(a - b) / 2 / np.square(sigma))\n",
    "\n",
    "smoothed_frac_cases = []\n",
    "for i in income:\n",
    "    p_x = gaussian_density(i, x, SIGMA)\n",
    "    smoothed_frac_cases.append(np.sum(y * p_x) / np.sum(p_x))\n",
    "    \n",
    "plt.scatter(x, y)\n",
    "plt.plot(income, smoothed_frac_cases)"
   ]
  },
  {
   "cell_type": "code",
   "execution_count": null,
   "metadata": {},
   "outputs": [],
   "source": [
    "# exponential fit\n",
    "def poly_line(x, coef):\n",
    "    y = np.zeros_like(x, dtype=np.float64)\n",
    "    for p in range(len(coef)):\n",
    "        y += np.power(x, p) * coef[-(p + 1)]\n",
    "    return y\n",
    "\n",
    "income = np.arange(10000, 80000, 1000)\n",
    "x = locations_with_cases['Median Income'].to_numpy()\n",
    "y = locations_with_cases['Frac Cases'].to_numpy()\n",
    "log_y = np.log(y)\n",
    "\n",
    "coef = np.polyfit(x, log_y, deg=2)\n",
    "\n",
    "plt.scatter(x, log_y)\n",
    "plt.plot(x, poly_line(x, coef))\n",
    "plt.show()\n",
    "\n",
    "exp_smoothed_frac_cases = np.exp(poly_line(income, coef))\n",
    "plt.scatter(x, y)\n",
    "plt.plot(income, exp_smoothed_frac_cases)"
   ]
  },
  {
   "cell_type": "code",
   "execution_count": null,
   "metadata": {},
   "outputs": [],
   "source": []
  }
 ],
 "metadata": {
  "kernelspec": {
   "display_name": "Python 3",
   "language": "python",
   "name": "python3"
  },
  "language_info": {
   "codemirror_mode": {
    "name": "ipython",
    "version": 3
   },
   "file_extension": ".py",
   "mimetype": "text/x-python",
   "name": "python",
   "nbconvert_exporter": "python",
   "pygments_lexer": "ipython3",
   "version": "3.6.1"
  }
 },
 "nbformat": 4,
 "nbformat_minor": 4
}
