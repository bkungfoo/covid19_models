{
 "cells": [
  {
   "cell_type": "markdown",
   "metadata": {},
   "source": [
    "# Visualizing SIR Models for COVID-19\n",
    "\n",
    "Objectives: Look at the rate of COVID-19 growth by different regions and estimate the SIR curve."
   ]
  },
  {
   "cell_type": "code",
   "execution_count": null,
   "metadata": {},
   "outputs": [],
   "source": [
    "import numpy as np\n",
    "import pandas as pd\n",
    "from datetime import datetime, timezone, timedelta\n",
    "import matplotlib.pyplot as plt\n",
    "from pandas.plotting import register_matplotlib_converters\n",
    "register_matplotlib_converters()\n",
    "from scipy import optimize\n",
    "import statsmodels.api as sm\n",
    "import os\n",
    "import pickle\n",
    "import requests\n",
    "\n",
    "from modeling import dataproc, optimizer, sir_model"
   ]
  },
  {
   "cell_type": "markdown",
   "metadata": {},
   "source": [
    "# Load Covid-19 and Census Data"
   ]
  },
  {
   "cell_type": "code",
   "execution_count": null,
   "metadata": {
    "scrolled": true
   },
   "outputs": [],
   "source": [
    "datastore = dataproc.DataStore()"
   ]
  },
  {
   "cell_type": "markdown",
   "metadata": {},
   "source": [
    "# Utility functions\n",
    "\n",
    "Functions that are called to plot the curve, etc."
   ]
  },
  {
   "cell_type": "code",
   "execution_count": null,
   "metadata": {},
   "outputs": [],
   "source": [
    "def plot_sir_model(r, i, total_model_days, df, metric, sampling_rate, name):\n",
    "    \"\"\"Plot the model death rates and total deaths vs actual data.\n",
    "    \n",
    "    Args:\n",
    "        r: Array holding daily recovered population values from SIR model\n",
    "        i: Array holding daily infected population values from SIR model\n",
    "        total_model_days: Total number of modeled days to plot\n",
    "        df: Dataframe holding metric values.\n",
    "        metric: The type of metric to plot ('Cases' or 'Deaths')\n",
    "        sampling_rate: Number of samples per day used to simulate the model.\n",
    "        name: A name to attach to the plot.\n",
    "    \"\"\"\n",
    "    plot_start_time = df['Date'].min().timestamp()\n",
    "    plot_step_size = 24 * 60 * 60 / sampling_rate\n",
    "    plot_end_time = plot_start_time + total_model_days * 24 * 60 * 60 \n",
    "    plot_timestamps = np.arange(plot_start_time, plot_end_time, plot_step_size)\n",
    "    plot_dates = [datetime.utcfromtimestamp(x) for x in plot_timestamps]\n",
    "    print('peak date', plot_dates[np.argmax(i)])\n",
    "    # Plot peak infection\n",
    "    fig, ax = plt.subplots(figsize=(12, 8))\n",
    "    ax.ticklabel_format(useOffset=False)\n",
    "    ax.ticklabel_format(style='plain')\n",
    "    ax.plot(plot_dates[:-sampling_rate],\n",
    "            (r[sampling_rate:] - r[:-sampling_rate]),\n",
    "            c='g',\n",
    "            label='model ' + metric + ' rate',\n",
    "            linewidth=4)\n",
    "    ax.plot(df['Date'].to_list()[:-1],\n",
    "            (df[metric] - df[metric].shift())[1:], label='actual ' + metric + ' rate', c='r', linewidth=4)\n",
    "    ax.set_title('SIR model for ' + name)\n",
    "    ax.set_xlabel('Number of days')\n",
    "    ax.set_ylabel('Number of individuals')\n",
    "    plt.legend()\n",
    "    plt.plot()\n",
    "    \n",
    "    # Plot recovery\n",
    "    fig, ax = plt.subplots(figsize=(12, 8))\n",
    "    ax.ticklabel_format(useOffset=False)\n",
    "    ax.ticklabel_format(style='plain')\n",
    "    ax.plot(plot_dates, r, c='g',\n",
    "            label='model ' + metric, linewidth=4)\n",
    "    ax.plot(df['Date'].to_list(), df[metric], label='actual ' + metric, c='r', linewidth=4)\n",
    "    ax.set_title('SIR model for ' + name)\n",
    "    ax.set_xlabel('Number of days')\n",
    "    ax.set_ylabel('Number of individuals')\n",
    "    plt.legend()\n",
    "    plt.show()"
   ]
  },
  {
   "cell_type": "code",
   "execution_count": null,
   "metadata": {},
   "outputs": [],
   "source": [
    "# Test out a model plot\n",
    "sampling_rate = 10.0 # Times per day\n",
    "total_model_days = 180 # Total number of days\n",
    "population = 327.2 # Population in the US in millions\n",
    "infected = 0.04 # Starting population dead = cases * case fatality rate\n",
    "contacts_per_day = 0.2 # Average contacts per day for people\n",
    "days_to_recover = 24 # Average days to recover (Avg 10 days until symptoms + 14 days after symptoms fade)\n",
    "\n",
    "t, s, i, r = sir_model.compute_sir(sampling_rate, total_model_days, population, infected, contacts_per_day, days_to_recover)\n",
    "\n",
    "fig, ax = plt.subplots(figsize=(12, 8))\n",
    "ax.ticklabel_format(useOffset=False)\n",
    "ax.ticklabel_format(style='plain')\n",
    "ax.plot(t, s, c='y', label='susceptible', linewidth=4)\n",
    "ax.plot(t, i, c='r', label='infected', linewidth=4)\n",
    "ax.plot(t, r, c='g', label='recovered', linewidth=4)\n",
    "ax.set_title('SIR model')\n",
    "ax.set_xlabel('Number of days')\n",
    "ax.set_ylabel('Number of individuals (in millions)')\n",
    "plt.legend()\n",
    "plt.show()\n"
   ]
  },
  {
   "cell_type": "code",
   "execution_count": null,
   "metadata": {},
   "outputs": [],
   "source": [
    "# Example on looking up state and county FIPS\n",
    "\n",
    "lookup_df = datastore.county_census_df[(datastore.county_census_df.STNAME == 'Illinois')\n",
    "                             & (datastore.county_census_df.CTYNAME.isin([\n",
    "                                 'Jefferson County',\n",
    "                                 'DeKalb County',\n",
    "                                 'DuPage County',\n",
    "                                 'Grundy County',\n",
    "                                 'Kankakee County',\n",
    "                                 'Kane County',\n",
    "                                 'Kendall County',\n",
    "                                 'McHenry County',\n",
    "                                 'Will County',\n",
    "                             ]))\n",
    "]\n",
    "print('state fips', lookup_df['STATE'].iloc[0])\n",
    "print('county fips', lookup_df['COUNTY'].tolist())\n",
    "\n"
   ]
  },
  {
   "cell_type": "markdown",
   "metadata": {},
   "source": [
    "## Modeling parameters\n",
    "\n"
   ]
  },
  {
   "cell_type": "code",
   "execution_count": null,
   "metadata": {},
   "outputs": [],
   "source": [
    "SIMULATION_DAYS = 150 # Total number of days to simulate when plotting forecast model.\n",
    "SAMPLING_RATE = 10 # Modeling time samples per day"
   ]
  },
  {
   "cell_type": "markdown",
   "metadata": {},
   "source": [
    "## Regions\n",
    "\n",
    "Some interesting areas (Name, State FIPS, County FIPS) below. Copy one of the values in the bullet points into AREA_OF_INTEREST below.\n",
    "* ('US', 'NYC', 36, [5, 47, 61, 81, 85])\n",
    "* ('US', 'New Orleans', 22, [51, 71, 75, 87, 89, 95, 103, 105])\n",
    "* ('US', 'Detroit', 26, [87, 93, 99, 125, 147, 163])\n",
    "* ('US', 'Bay Area, CA', 6, [1, 13, 41, 55, 75, 81, 85, 95, 97])\n",
    "* ('US', 'Greater LA Area, CA', 6, [37, 59, 65, 71, 111])\n",
    "* ('US', 'Chicago', 17, [31, 37, 43, 63, 89, 91, 93, 111, 197])\n",
    "\n",
    "If County FIPS is empty, this will fetch stats for the whole state:\n",
    "* ('US', 'California', 6, [])\n",
    "* ('US', 'New York', 36, [])\n",
    "* ('US', 'Michigan', 26, [])\n",
    "* ('US', 'Washington', 53, [])\n",
    "* ('US', 'Alabama', 1 , [])\n",
    "* ('US', 'Iowa', 19, [])\n",
    "* ('US', 'Texas', 48, [])\n",
    "* ('US', 'Georgia', 13, [])\n",
    "* ('US', 'New Jersey', 34, [])\n",
    "\n",
    "If Country is not US, this will fetch a country's total stats:\n",
    "* ('Italy', 'Italy')\n",
    "* ('Spain', 'Spain')\n",
    "* ('United Kingdom', 'United Kingdom')\n",
    "* ('US', 'US')\n"
   ]
  },
  {
   "cell_type": "code",
   "execution_count": null,
   "metadata": {
    "scrolled": true
   },
   "outputs": [],
   "source": [
    "AREA_OF_INTEREST = ('US', 'Texas', 48, [])\n",
    "MODEL_FIT_FIRST_DATE = '2019-01-01'\n",
    "MODEL_FIT_LAST_DATE = '2020-05-01'  # Fit model to data before this date, reserving later dates as holdout.\n",
    "METRIC = 'Deaths'"
   ]
  },
  {
   "cell_type": "code",
   "execution_count": null,
   "metadata": {},
   "outputs": [],
   "source": [
    "if len(AREA_OF_INTEREST) <= 2:\n",
    "    area_df, population = datastore.get_time_series_for_area(AREA_OF_INTEREST[0])\n",
    "else:\n",
    "    area_df, population = datastore.get_time_series_for_area(\n",
    "        AREA_OF_INTEREST[0], AREA_OF_INTEREST[2], AREA_OF_INTEREST[3])\n",
    "\n",
    "area_df = area_df[\n",
    "    (area_df.Date >= MODEL_FIT_FIRST_DATE) & \n",
    "    (area_df.Date <= MODEL_FIT_LAST_DATE)]\n",
    "area_df = area_df[area_df[METRIC] > 0]\n",
    "area_df = area_df.sort_values(by=['Date']).reset_index(drop=True)\n",
    "# Validate selection through plot and inspection\n",
    "plt.plot(area_df['Date'], area_df[METRIC])\n",
    "area_df # Check last entries (Make sure data is good first!)\n",
    "print(population)"
   ]
  },
  {
   "cell_type": "code",
   "execution_count": null,
   "metadata": {
    "scrolled": true
   },
   "outputs": [],
   "source": [
    "# Optional: Get rid of single day outliers by using a window to limit the outlier slope\n",
    "# to the second largest/smallest slope\n",
    "# Rescale to keep the total number of deaths equal.\n",
    "\n",
    "data = dataproc.convert_data_to_numpy(area_df, METRIC)\n",
    "plt.yscale('log')\n",
    "plt.plot(area_df['Date'], area_df[METRIC], linewidth=4, label='raw total ' + METRIC)\n",
    "plt.plot(area_df['Date'], data, linewidth=4, label='smoothed total ' + METRIC)\n",
    "plt.legend()\n",
    "plt.show()\n",
    "\n",
    "plt.plot(area_df['Date'].iloc[:-1],\n",
    "         area_df[METRIC].iloc[1:].to_numpy() - area_df[METRIC].iloc[:-1].to_numpy(),\n",
    "         linewidth=4, label='raw ' + METRIC + ' rates')\n",
    "plt.plot(area_df['Date'].iloc[:-1],\n",
    "         data[1:] - data[:-1],\n",
    "         linewidth=4, label='smoothed ' + METRIC + ' rates')\n",
    "plt.legend()"
   ]
  },
  {
   "cell_type": "markdown",
   "metadata": {},
   "source": [
    "## Fitting Values to the Model\n",
    "\n",
    "We try to find the best fit of all parameters of the model by minimizing its mean squared error (mse) from actual data points.\n",
    "\n",
    "Note that the simple algorithm used below is randomized and not guaranteed to be optimal, but in practice, seems to converge to a near optimal solution quickly. Also, approaches such as Bayesian optimization, annealing, and other guaranteed optimal techniques take a long time to run per iteration and have occasionally stalled the notebook."
   ]
  },
  {
   "cell_type": "code",
   "execution_count": null,
   "metadata": {
    "scrolled": true
   },
   "outputs": [],
   "source": [
    "# Reasonable search regions for each parameter\n",
    "recovery_days = 20.0 # This is fairly constant\n",
    "pop_frac_range = [0.00005, 0.005]\n",
    "infection_rate_range = [0.10, 0.80]\n",
    "multiplier_range = [0.01, 200.0]\n",
    "\n",
    "best_params, best_value = optimizer.minimize(\n",
    "    data, population, recovery_days,\n",
    "    pop_frac_range, infection_rate_range, multiplier_range\n",
    ")\n",
    "print('Param', best_param)\n",
    "print('MSE', best_value)"
   ]
  },
  {
   "cell_type": "code",
   "execution_count": null,
   "metadata": {
    "scrolled": true
   },
   "outputs": [],
   "source": [
    "#Validation plot\n",
    "validation_area_df = area_df # TODO: add holdout days\n",
    "validation_area_df = validation_area_df[\n",
    "    (validation_area_df.Date >= MODEL_FIT_FIRST_DATE) & \n",
    "    (validation_area_df.Date <= MODEL_FIT_LAST_DATE)\n",
    "]\n",
    "validation_area_df = validation_area_df[validation_area_df[METRIC] > 0]\n",
    "validation_area_df = validation_area_df.sort_values(by=['Date']).reset_index(drop=True)\n",
    "\n",
    "best_pop_frac = best_params[0]\n",
    "best_infection_rate = best_params[1]\n",
    "best_multiplier = best_params[2]\n",
    "\n",
    "infected = data[0] * best_multiplier\n",
    "t, s, i, r = sir_model.compute_sir(\n",
    "    SAMPLING_RATE,\n",
    "    SIMULATION_DAYS,\n",
    "    population * best_pop_frac,\n",
    "    infected,\n",
    "    best_infection_rate,\n",
    "    days_to_recover\n",
    ")\n",
    "\n",
    "print('Steady state population fraction affected:', best_params[0])\n",
    "print('Steady state number affected (e.g. total expected deaths):', best_params[0] * population)\n",
    "print('Transmissions per person per day:', best_params[1])\n",
    "print('Number of cases multiplier on first day estimates', best_params[2])\n",
    "print('best_mse', best_value)\n",
    "plot_sir_model(r, i, SIMULATION_DAYS, validation_area_df, METRIC, SAMPLING_RATE, AREA_OF_INTEREST[1])"
   ]
  },
  {
   "cell_type": "code",
   "execution_count": null,
   "metadata": {},
   "outputs": [],
   "source": []
  }
 ],
 "metadata": {
  "kernelspec": {
   "display_name": "Python 3",
   "language": "python",
   "name": "python3"
  },
  "language_info": {
   "codemirror_mode": {
    "name": "ipython",
    "version": 3
   },
   "file_extension": ".py",
   "mimetype": "text/x-python",
   "name": "python",
   "nbconvert_exporter": "python",
   "pygments_lexer": "ipython3",
   "version": "3.6.1"
  }
 },
 "nbformat": 4,
 "nbformat_minor": 4
}
