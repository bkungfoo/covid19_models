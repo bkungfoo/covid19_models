{
 "cells": [
  {
   "cell_type": "code",
   "execution_count": 2,
   "metadata": {},
   "outputs": [],
   "source": [
    "import matplotlib.pyplot as plt\n",
    "import numpy as np\n",
    "from scipy import integrate, linalg\n",
    "from enum import Enum\n",
    "from typing import Mapping"
   ]
  },
  {
   "cell_type": "code",
   "execution_count": 3,
   "metadata": {},
   "outputs": [],
   "source": [
    "class PopulationSpec:\n",
    "    \n",
    "    def __init__(self, name, population, s, e, i, r, i_rate, r_rate, s_rate=0.0):\n",
    "        \"\"\"Specs out a population's SEIR properties.\n",
    "        \n",
    "        Starting S, E, I, R, and population are provided, as well as\n",
    "        the population's rate from exposed to infected, and infected to recovered.\n",
    "        \"\"\"\n",
    "        self._name = name\n",
    "        self._s = s\n",
    "        self._e = e\n",
    "        self._i = i\n",
    "        self._r = r\n",
    "        self._population = s + e + i + r\n",
    "        self._i_rate = i_rate\n",
    "        self._r_rate = r_rate\n",
    "        self._s_rate = s_rate\n",
    "        \n",
    "    def y0(self):\n",
    "        return [self._s, self._e, self._i, self._r]\n",
    "    \n",
    "    def params(self):\n",
    "        return [self._name + ': ' + x for x in ['s', 'e', 'i', 'r']]\n",
    "        \n",
    "    def population(self):\n",
    "        return self._population\n",
    "    \n",
    "    def transition_matrix(self):\n",
    "        return np.array([[0., 0., 0., self._s_rate],\n",
    "                         [0., -self._i_rate, 0., 0.],\n",
    "                         [0., self._i_rate, -self._r_rate, 0.],\n",
    "                         [0., 0., self._r_rate, -self._s_rate],\n",
    "                        ])\n",
    "    \n",
    "        \n",
    "class InteractionSpec:\n",
    "    \n",
    "    def __init__(self, from_pop, to_pop, x_rate):\n",
    "        \"\"\"Rate of transmission between two populations.\n",
    "        \n",
    "        Populations can be the same population for internal transmission rates.\n",
    "        \"\"\"\n",
    "        self._from_pop = from_pop\n",
    "        self._to_pop = to_pop\n",
    "        self._x_rate = x_rate\n",
    "        \n",
    "\n",
    "class PopulationCollection:\n",
    "    def __init__(self):\n",
    "        self.populations = {}\n",
    "        \n",
    "    "
   ]
  },
  {
   "cell_type": "code",
   "execution_count": 10,
   "metadata": {},
   "outputs": [
    {
     "data": {
      "text/plain": [
       "<matplotlib.legend.Legend at 0x121af9850>"
      ]
     },
     "execution_count": 10,
     "metadata": {},
     "output_type": "execute_result"
    },
    {
     "data": {
      "image/png": "[encoded data removed]",
      "text/plain": [
       "<Figure size 432x288 with 1 Axes>"
      ]
     },
     "metadata": {
      "needs_background": "light"
     },
     "output_type": "display_data"
    }
   ],
   "source": [
    "# Create specs\n",
    "I_RATE = 1 / 5.1\n",
    "R_RATE = 1 / 10.\n",
    "S_RATE = 0.0075\n",
    "E_RATE_FAST = 1 / 2. # R = 2.5\n",
    "E_RATE_SLOW = 1 / 20. # R = 1\n",
    "E_RATE_CROSS = 1 / 50. # R = 0.5\n",
    "DAYS = 1000\n",
    "\n",
    "\n",
    "def simulate(pop_specs, xact_specs):\n",
    "    y0 = np.zeros(0)\n",
    "    A = np.zeros((0, 0))\n",
    "\n",
    "    y0 = np.concatenate([pop_spec.y0() for pop_spec in pop_specs])\n",
    "    A = linalg.block_diag(*[pop_spec.transition_matrix() for pop_spec in pop_specs])\n",
    "    total_pop = sum([pop_spec.population() for pop_spec in pop_specs])\n",
    "\n",
    "    pop_specs_indexed = dict([(y, x) for x, y in enumerate(pop_specs)])    \n",
    "\n",
    "    t_init = 0.\n",
    "\n",
    "    def ode_fn(t, y):\n",
    "        A_complete = np.copy(A)\n",
    "        for xact_spec in xact_specs:\n",
    "            from_index = pop_specs_indexed[xact_spec._from_pop] * 4 + 2\n",
    "            to_index = pop_specs_indexed[xact_spec._to_pop] * 4\n",
    "            A_complete[to_index, to_index] -= y[from_index] * xact_spec._x_rate / xact_spec._to_pop.population()\n",
    "            A_complete[to_index + 1, to_index] += y[from_index] * xact_spec._x_rate / xact_spec._to_pop.population()\n",
    "        return A_complete.dot(y)\n",
    "\n",
    "    results = integrate.RK45(ode_fn, t_init, y0, DAYS)\n",
    "\n",
    "    t_seq = np.arange(0.1, DAYS, 0.1)\n",
    "    y_all = []\n",
    "    results.step()\n",
    "    dense_output = results.dense_output()\n",
    "    for t in t_seq:\n",
    "        while t > dense_output.t_max:\n",
    "            results.step()\n",
    "            dense_output = results.dense_output()\n",
    "        y_all.append(dense_output(t))\n",
    "\n",
    "\n",
    "    labels = [pop.params() for pop in pop_specs]\n",
    "    labels = [item for sublist in labels for item in sublist]\n",
    "    return t_seq, labels, np.array(y_all)\n",
    "\n",
    "\n",
    "pop_spec1 = PopulationSpec('fast spreaders', 500000, 500000 - 500, 500, 0, 0, I_RATE, R_RATE, S_RATE)\n",
    "pop_spec2 = PopulationSpec('slow spreaders', 500000, 500000 - 500, 500, 0, 0, I_RATE, R_RATE, S_RATE)\n",
    "pop_specs = [pop_spec1, pop_spec2]\n",
    "\n",
    "xact_specs = []\n",
    "xact_specs.append(InteractionSpec(pop_spec1, pop_spec1, E_RATE_FAST))\n",
    "xact_specs.append(InteractionSpec(pop_spec1, pop_spec2, E_RATE_CROSS))\n",
    "xact_specs.append(InteractionSpec(pop_spec2, pop_spec2, E_RATE_SLOW))\n",
    "xact_specs.append(InteractionSpec(pop_spec2, pop_spec1, E_RATE_CROSS))\n",
    "\n",
    "t_seq, labels, y_all = simulate(pop_specs, xact_specs)\n",
    "\n",
    "for i in range(2, 4 * len(pop_specs), 4):\n",
    "    plt.plot(t_seq, y_all[:,i], label=labels[i])\n",
    "plt.plot(t_seq, np.sum(y_all[:,2::4], axis=-1), label='all_infected')\n",
    "\n",
    "\n",
    "# Fast only prediction\n",
    "pop_spec3 = PopulationSpec('assume fast spreaders only', 1000000, 1000000 - 1000, 1000, 0, 0, I_RATE, R_RATE, S_RATE)\n",
    "xact_specs = []\n",
    "xact_specs.append(InteractionSpec(pop_spec3, pop_spec3, E_RATE_FAST))\n",
    "t_seq, labels, y_all = simulate([pop_spec3], xact_specs)\n",
    "plt.plot(t_seq, y_all[:,2], label=labels[2])\n",
    "#plt.yscale('log')\n",
    "plt.legend()\n",
    "\n"
   ]
  },
  {
   "cell_type": "code",
   "execution_count": 7,
   "metadata": {},
   "outputs": [
    {
     "data": {
      "text/plain": [
       "<tf.Tensor: shape=(2,), dtype=float64, numpy=array([ 0.60199722, -0.40508831])>"
      ]
     },
     "execution_count": 7,
     "metadata": {},
     "output_type": "execute_result"
    }
   ],
   "source": [
    "y1"
   ]
  },
  {
   "cell_type": "code",
   "execution_count": null,
   "metadata": {},
   "outputs": [],
   "source": []
  }
 ],
 "metadata": {
  "kernelspec": {
   "display_name": "Python 3",
   "language": "python",
   "name": "python3"
  },
  "language_info": {
   "codemirror_mode": {
    "name": "ipython",
    "version": 3
   },
   "file_extension": ".py",
   "mimetype": "text/x-python",
   "name": "python",
   "nbconvert_exporter": "python",
   "pygments_lexer": "ipython3",
   "version": "3.7.7"
  }
 },
 "nbformat": 4,
 "nbformat_minor": 4
}
