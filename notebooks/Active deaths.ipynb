{
 "cells": [
  {
   "cell_type": "markdown",
   "metadata": {},
   "source": [
    "# Visualizing Active Deaths\n",
    "\n",
    "Look at the past week to see which state is doing the worst right now."
   ]
  },
  {
   "cell_type": "code",
   "execution_count": null,
   "metadata": {},
   "outputs": [],
   "source": [
    "import numpy as np\n",
    "import pandas as pd\n",
    "from importlib import reload\n",
    "from datetime import datetime, timezone, timedelta\n",
    "import matplotlib.pyplot as plt\n",
    "from pandas.plotting import register_matplotlib_converters\n",
    "register_matplotlib_converters()\n",
    "from scipy import optimize\n",
    "import statsmodels.api as sm\n",
    "import os\n",
    "import pickle\n",
    "import requests\n",
    "\n",
    "# Use parent directory as a base code directory.\n",
    "import sys\n",
    "sys.path.append(\"../\")\n",
    "\n",
    "from modeling import dataproc, optimizer, sir_model"
   ]
  },
  {
   "cell_type": "markdown",
   "metadata": {},
   "source": [
    "# Load Covid-19 and Census Data"
   ]
  },
  {
   "cell_type": "code",
   "execution_count": null,
   "metadata": {
    "scrolled": true
   },
   "outputs": [],
   "source": [
    "datastore = dataproc.DataStore()"
   ]
  },
  {
   "cell_type": "code",
   "execution_count": null,
   "metadata": {},
   "outputs": [],
   "source": [
    "fips_df = pd.read_csv('../data_repo/state_fips_master.csv')\n",
    "fips_df.head()"
   ]
  },
  {
   "cell_type": "code",
   "execution_count": null,
   "metadata": {},
   "outputs": [],
   "source": [
    "DAYS_AGO = -270\n",
    "WINDOW_SIZE = 30\n",
    "deaths_per_mil = []\n",
    "for fips in range(1,57):\n",
    "    try:\n",
    "        area_df, population = datastore.get_time_series_for_area('US', [(fips, [])])\n",
    "        state = fips_df[fips_df['fips'] == fips]['state_name'].iloc[0]\n",
    "        two_week_deaths = ((area_df.iloc[DAYS_AGO-WINDOW_SIZE:] - area_df.iloc[DAYS_AGO-WINDOW_SIZE:].shift(WINDOW_SIZE))['Deaths']\n",
    "                           / population * 1000000)[WINDOW_SIZE:].to_numpy()\n",
    "        deaths_per_mil.append((state, two_week_deaths, ))\n",
    "    except:\n",
    "        print('failed for fips', fips)\n",
    "        continue"
   ]
  },
  {
   "cell_type": "code",
   "execution_count": null,
   "metadata": {},
   "outputs": [],
   "source": [
    "fips_df[fips_df['fips'] == 56]['state_name'].iloc[0]"
   ]
  },
  {
   "cell_type": "code",
   "execution_count": null,
   "metadata": {},
   "outputs": [],
   "source": [
    "prev_y_max = 1000\n",
    "for days in range(DAYS_AGO, 0):\n",
    "    d = datetime.date(datetime.now()) + timedelta(days)\n",
    "    plt.figure(figsize=(15, 5))\n",
    "    plt.title('Date: {}'.format(d))\n",
    "    plt.bar([x[0] for x in deaths_per_mil], [x[1][days] for x in deaths_per_mil])\n",
    "    prev_y_max = 0.9 * prev_y_max + 0.12 * np.max([x[1][days] for x in deaths_per_mil])\n",
    "    plt.ylim((0, prev_y_max))\n",
    "    plt.xticks(rotation=90)\n",
    "    plt.xlabel('State')\n",
    "    plt.ylabel('Deaths per million in last ' + str(WINDOW_SIZE) + ' days')\n",
    "    plt.savefig('data/images/active_deaths/pic_{:04d}.png'.format(days - DAYS_AGO))\n",
    "    plt.show()"
   ]
  },
  {
   "cell_type": "code",
   "execution_count": null,
   "metadata": {},
   "outputs": [],
   "source": [
    "area_df, population = datastore.get_time_series_for_area('US', [(34, [])])\n",
    "sample_df = area_df[(area_df['Date'] >= '2020-06-20') & (area_df['Date'] <= '2020-06-30')]\n",
    "\n",
    "case_ratio = area_df[area_df['Date'] == '2020-06-25']['Cases'].iloc[0] / area_df[area_df['Date'] == '2020-06-24']['Cases'].iloc[0]\n",
    "death_ratio = area_df[area_df['Date'] == '2020-06-25']['Deaths'].iloc[0] / area_df[area_df['Date'] == '2020-06-24']['Deaths'].iloc[0]\n",
    "print(case_ratio, death_ratio)\n",
    "# deaths_ratio = area_df[]\n",
    "\n",
    "# area_df['Updated Deaths'] = np.where(area_df['Date'] < '2020-06-25',\n",
    "#                                      area_df['Deaths'] / area_df[]\n",
    "# sample_df\n"
   ]
  },
  {
   "cell_type": "code",
   "execution_count": null,
   "metadata": {},
   "outputs": [],
   "source": [
    "week_trend = area_df[(area_df['Date'] >= '2020-06-17') & (area_df['Date'] < '2020-06-25')]['Deaths'].to_numpy()\n",
    "adjustment = area_df[area_df['Date'] == '2020-06-25']['Deaths'].iloc[0] / ((week_trend[-1] - week_trend[0]) / 7 + week_trend[-1])"
   ]
  },
  {
   "cell_type": "code",
   "execution_count": null,
   "metadata": {},
   "outputs": [],
   "source": [
    "adjustment * "
   ]
  },
  {
   "cell_type": "code",
   "execution_count": null,
   "metadata": {},
   "outputs": [],
   "source": [
    "# Plot deaths per mil\n",
    "\n",
    "states_of_interest = [\n",
    "    'New York',\n",
    "    'New Jersey',\n",
    "    'Louisiana',\n",
    "    'Mississippi',\n",
    "    'Arizona',\n",
    "    'Michigan',\n",
    "    'Illinois',\n",
    "    'Florida',\n",
    "    'Georgia',\n",
    "    'Texas',\n",
    "    'California',\n",
    "]\n",
    "\n",
    "DAYS_AGO = -180\n",
    "for state in states_of_interest:\n",
    "    try:\n",
    "        fips = fips_df[fips_df['state_name'] == state]['fips'].iloc[0]\n",
    "        area_df, population = datastore.get_time_series_for_area('US', [(fips, [])])\n",
    "        dates = area_df.iloc[DAYS_AGO:]['Date'].to_numpy()\n",
    "        deaths = area_df.iloc[DAYS_AGO:]['Deaths'].to_numpy() / population * 1000000\n",
    "        plt.plot(dates, deaths, label=state)\n",
    "    except:\n",
    "        print('failed for fips', fips)\n",
    "        continue\n",
    "\n",
    "plt.legend()"
   ]
  },
  {
   "cell_type": "code",
   "execution_count": null,
   "metadata": {},
   "outputs": [],
   "source": [
    "area_df.iloc[DAYS_AGO:]"
   ]
  },
  {
   "cell_type": "code",
   "execution_count": null,
   "metadata": {},
   "outputs": [],
   "source": []
  }
 ],
 "metadata": {
  "kernelspec": {
   "display_name": "Python 3",
   "language": "python",
   "name": "python3"
  },
  "language_info": {
   "codemirror_mode": {
    "name": "ipython",
    "version": 3
   },
   "file_extension": ".py",
   "mimetype": "text/x-python",
   "name": "python",
   "nbconvert_exporter": "python",
   "pygments_lexer": "ipython3",
   "version": "3.8.6"
  }
 },
 "nbformat": 4,
 "nbformat_minor": 4
}
