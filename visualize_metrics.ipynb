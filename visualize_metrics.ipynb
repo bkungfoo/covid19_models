{
 "cells": [
  {
   "cell_type": "markdown",
   "metadata": {},
   "source": [
    "# Visualize various metrics\n",
    "\n",
    "This notebook provides an example of looking at different metrics to identify effects of different events (e.g. stay at home orders, outlier deaths, etc.)\n",
    "\n",
    "Make sure to run batch model fitting to generate `data/metro_areas.csv` before running this notebook.\n",
    "\n",
    "```\n",
    "python fit_models.py --specfile=metro_areas\n",
    "```"
   ]
  },
  {
   "cell_type": "code",
   "execution_count": null,
   "metadata": {},
   "outputs": [],
   "source": [
    "import itertools\n",
    "import numpy as np\n",
    "import pandas as pd\n",
    "from datetime import datetime, timezone, timedelta\n",
    "import matplotlib.pyplot as plt\n",
    "from pandas.plotting import register_matplotlib_converters\n",
    "register_matplotlib_converters()\n",
    "from scipy import optimize\n",
    "import statsmodels.api as sm\n",
    "import os\n",
    "import pickle\n",
    "import requests\n",
    "\n",
    "from modeling import dataproc, sir_model"
   ]
  },
  {
   "cell_type": "markdown",
   "metadata": {},
   "source": [
    "# Utility functions"
   ]
  },
  {
   "cell_type": "code",
   "execution_count": null,
   "metadata": {},
   "outputs": [],
   "source": [
    "def plot_sir_model(r, i, total_model_days, df, metric, sampling_rate, name):\n",
    "    \"\"\"Plot the model death rates and total deaths vs actual data.\n",
    "    \n",
    "    Args:\n",
    "        r: Array holding daily recovered population values from SIR model\n",
    "        i: Array holding daily infected population values from SIR model\n",
    "        total_model_days: Total number of modeled days to plot\n",
    "        df: Dataframe holding metric values.\n",
    "        metric: The type of metric to plot ('Cases' or 'Deaths')\n",
    "        sampling_rate: Number of samples per day used to simulate the model.\n",
    "        name: A name to attach to the plot.\n",
    "    \"\"\"\n",
    "    plot_start_time = df['Date'].min().timestamp()\n",
    "    plot_step_size = 24 * 60 * 60 / sampling_rate\n",
    "    plot_end_time = plot_start_time + total_model_days * 24 * 60 * 60 \n",
    "    plot_timestamps = np.arange(plot_start_time, plot_end_time, plot_step_size)\n",
    "    plot_dates = [datetime.utcfromtimestamp(x) for x in plot_timestamps]\n",
    "    print('peak date', plot_dates[np.argmax(i)])\n",
    "    # Plot peak infection\n",
    "    fig, ax = plt.subplots(figsize=(12, 8))\n",
    "    ax.ticklabel_format(useOffset=False)\n",
    "    ax.ticklabel_format(style='plain')\n",
    "    ax.plot(plot_dates[:-sampling_rate],\n",
    "            (r[sampling_rate:] - r[:-sampling_rate]),\n",
    "            c='g',\n",
    "            label='model ' + metric + ' rate',\n",
    "            linewidth=4)\n",
    "    ax.plot(df['Date'].to_list()[:-1],\n",
    "            (df[metric] - df[metric].shift())[1:], label='actual ' + metric + ' rate', c='r', linewidth=4)\n",
    "    ax.set_title('SIR model for ' + name)\n",
    "    ax.set_xlabel('Number of days')\n",
    "    ax.set_ylabel('Number of individuals')\n",
    "    plt.legend()\n",
    "    plt.plot()\n",
    "    \n",
    "    # Plot recovery\n",
    "    fig, ax = plt.subplots(figsize=(12, 8))\n",
    "    ax.ticklabel_format(useOffset=False)\n",
    "    ax.ticklabel_format(style='plain')\n",
    "    ax.plot(plot_dates, r, c='g',\n",
    "            label='model ' + metric, linewidth=4)\n",
    "    ax.plot(df['Date'].to_list(), df[metric], label='actual ' + metric, c='r', linewidth=4)\n",
    "    ax.set_title('SIR model for ' + name)\n",
    "    ax.set_xlabel('Number of days')\n",
    "    ax.set_ylabel('Number of individuals')\n",
    "    plt.legend()\n",
    "    plt.show()"
   ]
  },
  {
   "cell_type": "markdown",
   "metadata": {},
   "source": [
    "# Load Covid-19 and Census Data"
   ]
  },
  {
   "cell_type": "code",
   "execution_count": null,
   "metadata": {
    "scrolled": true
   },
   "outputs": [],
   "source": [
    "datastore = dataproc.DataStore()"
   ]
  },
  {
   "cell_type": "markdown",
   "metadata": {},
   "source": [
    "# Load model params dataframe"
   ]
  },
  {
   "cell_type": "code",
   "execution_count": null,
   "metadata": {
    "scrolled": true
   },
   "outputs": [],
   "source": [
    "model_df = pd.read_csv('data/metro_areas.csv', index_col='Unnamed: 0', parse_dates=['Date'])\n",
    "model_df"
   ]
  },
  {
   "cell_type": "markdown",
   "metadata": {},
   "source": [
    "## Sheltering in place effect on infection rate\n",
    "\n",
    "How many people does an infected person infect per day? Models trained with new data may reveal a sudden change in this parameter based on sheltering-in-place orders. For example, New York, Michigan, and Louisiana all implement sheltering-in-place orders around 3/22-3/24, and the \"infection rate\" based on deaths suddenly dropped about a week later."
   ]
  },
  {
   "cell_type": "code",
   "execution_count": null,
   "metadata": {},
   "outputs": [],
   "source": [
    "plt.figure(figsize=(10, 8))\n",
    "\n",
    "shelter_dates_7_days = {'NYC': '2020-03-29',\n",
    "                        'Detroit': '2020-03-31'\n",
    "                       }\n",
    "\n",
    "for area in ['NYC', 'Detroit', 'New Orleans']:\n",
    "    model_area_df = model_df[model_df['Area'] == area]\n",
    "    plt.plot(model_area_df['Date'], model_area_df['Infection Rate'], linewidth=5, label=area)\n",
    "plt.legend()"
   ]
  },
  {
   "cell_type": "markdown",
   "metadata": {},
   "source": [
    "## Anomaly detection\n",
    "\n",
    "Can we use the model MSE to detect anomalies in the death rate?\n",
    "\n",
    "Notice that there seems to be a recent sudden shift in prediction error around 4/15 for New Orleans, 4/16 for Detroit and New York! Why?"
   ]
  },
  {
   "cell_type": "code",
   "execution_count": null,
   "metadata": {},
   "outputs": [],
   "source": [
    "for area in ['NYC', 'Detroit', 'New Orleans']:\n",
    "    model_area_df = model_df[(model_df['Area'] == area) & (model_df['Date'] <= '2020-04-18')]\n",
    "    plt.plot(model_area_df['Date'], model_area_df['MSE'], linewidth=5, label=area)\n",
    "    plt.legend()\n",
    "    plt.show()\n"
   ]
  },
  {
   "cell_type": "code",
   "execution_count": null,
   "metadata": {
    "scrolled": true
   },
   "outputs": [],
   "source": [
    "# Check data for one such area and date range\n",
    "model_df[(model_df['Area'] == 'New Orleans') & (model_df['Date'] >= '2020-04-12') & (model_df['Date'] <= '2020-04-18')]"
   ]
  },
  {
   "cell_type": "code",
   "execution_count": null,
   "metadata": {},
   "outputs": [],
   "source": [
    "# Use a past date to build a model and see what happened on anomalous days\n",
    "\n",
    "AREA_OF_INTEREST = ('US', 'NYC', 36, [5, 47, 61, 81, 85])\n",
    "#AREA_OF_INTEREST = ('US', 'New Orleans', 22, [51, 71, 75, 87, 89, 95, 103, 105])\n",
    "#AREA_OF_INTEREST = ('US', 'Detroit', 26, [87, 93, 99, 125, 147, 163])\n",
    "\n",
    "MODEL_FIT_FIRST_DATE = '2019-01-01'\n",
    "MODEL_FIT_LAST_DATE = '2020-04-14'  # Fit model to data before this date, reserving later dates as holdout.\n",
    "METRIC = 'Deaths'\n",
    "SAMPLING_RATE = 10\n",
    "SIMULATION_DAYS = 90"
   ]
  },
  {
   "cell_type": "code",
   "execution_count": null,
   "metadata": {},
   "outputs": [],
   "source": [
    "if len(AREA_OF_INTEREST) <= 2:\n",
    "    area_df, population = datastore.get_time_series_for_area(AREA_OF_INTEREST[0])\n",
    "else:\n",
    "    area_df, population = datastore.get_time_series_for_area(\n",
    "        AREA_OF_INTEREST[0], AREA_OF_INTEREST[2], AREA_OF_INTEREST[3])\n",
    "\n",
    "#Validation plot\n",
    "validation_area_df = area_df # TODO: add holdout days\n",
    "validation_area_df = validation_area_df[(validation_area_df.Date >= MODEL_FIT_FIRST_DATE)]\n",
    "validation_area_df = validation_area_df[validation_area_df[METRIC] > 0]\n",
    "validation_area_df = validation_area_df.sort_values(by=['Date']).reset_index(drop=True)\n",
    "\n",
    "# best_pop_frac = best_param[0]\n",
    "# best_infection_rate = best_param[1]\n",
    "# best_multiplier = best_param[2]\n",
    "model_row = model_df[(model_df['Date'] == MODEL_FIT_LAST_DATE) & (model_df['Area'] == AREA_OF_INTEREST[1])]\n",
    "best_pop_frac = model_row.iloc[0]['Pop Deaths Rate']\n",
    "best_infection_rate = model_row.iloc[0]['Infection Rate']\n",
    "best_multiplier = model_row.iloc[0]['Deaths Multiplier']\n",
    "days_to_recover = model_row.iloc[0]['Days To Recover']\n",
    "\n",
    "\n",
    "infected = validation_area_df[METRIC].iloc[0] * best_multiplier\n",
    "t, s, i, r = sir_model.compute_sir(\n",
    "    SAMPLING_RATE,\n",
    "    SIMULATION_DAYS,\n",
    "    population * best_pop_frac,\n",
    "    infected,\n",
    "    best_infection_rate,\n",
    "    days_to_recover\n",
    ")\n",
    "\n",
    "valid_obj = sir_model.create_objective_fn(\n",
    "    validation_area_df[METRIC].to_numpy(), population, sampling_rate=SAMPLING_RATE)\n",
    "validation_mse = valid_obj(best_pop_frac, best_infection_rate, days_to_recover, best_multiplier)\n",
    "\n",
    "print('Steady state population fraction affected:', best_pop_frac)\n",
    "print('Steady state number affected (e.g. total expected deaths):', best_pop_frac * population)\n",
    "print('Transmissions per person per day:', best_infection_rate)\n",
    "print('First day estimate multiplier', best_multiplier)\n",
    "print('Validation MSE', validation_mse)\n",
    "plot_sir_model(r, i, SIMULATION_DAYS, validation_area_df, METRIC, SAMPLING_RATE, AREA_OF_INTEREST[1])"
   ]
  },
  {
   "cell_type": "markdown",
   "metadata": {},
   "source": [
    "## Example reports\n",
    "\n",
    "Doing a news search for these regions: Seems NYC is reporting the [new record number of deaths](https://www.nytimes.com/2020/04/18/nyregion/coronavirus-deaths-nyc.html), but the anomalous data is due to probably bad daily reporting (double on 4/17, zero on 4/18)."
   ]
  }
 ],
 "metadata": {
  "kernelspec": {
   "display_name": "Python 3",
   "language": "python",
   "name": "python3"
  },
  "language_info": {
   "codemirror_mode": {
    "name": "ipython",
    "version": 3
   },
   "file_extension": ".py",
   "mimetype": "text/x-python",
   "name": "python",
   "nbconvert_exporter": "python",
   "pygments_lexer": "ipython3",
   "version": "3.6.1"
  }
 },
 "nbformat": 4,
 "nbformat_minor": 4
}
